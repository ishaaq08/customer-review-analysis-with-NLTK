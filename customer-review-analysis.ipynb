{
 "cells": [
  {
   "cell_type": "markdown",
   "id": "ac5cf49a",
   "metadata": {},
   "source": [
    "# Imports"
   ]
  },
  {
   "cell_type": "code",
   "execution_count": 56,
   "id": "840a7189",
   "metadata": {},
   "outputs": [],
   "source": [
    "from bs4 import BeautifulSoup\n",
    "import lxml.etree as ET\n",
    "import requests\n",
    "import random\n",
    "import pandas as pd\n",
    "import numpy as np"
   ]
  },
  {
   "cell_type": "markdown",
   "id": "b5863719",
   "metadata": {},
   "source": [
    "# Web Scraping"
   ]
  },
  {
   "cell_type": "code",
   "execution_count": 2,
   "id": "32fdf8a3",
   "metadata": {},
   "outputs": [],
   "source": [
    "HEADERS = {\n",
    "        \"User-Agent\": \"Mozilla/5.0 (Windows NT 10.0; Win64; x64; rv:98.0) Gecko/20100101 Firefox/98.0\",\n",
    "        \"Accept\": \"text/html,application/xhtml+xml,application/xml;q=0.9,image/avif,image/webp,*/*;q=0.8\",\n",
    "        \"Accept-Language\": \"en-US,en;q=0.5\",\n",
    "        \"Accept-Encoding\": \"gzip, deflate\",\n",
    "        \"Connection\": \"keep-alive\",\n",
    "        \"Upgrade-Insecure-Requests\": \"1\",\n",
    "        \"Sec-Fetch-Dest\": \"document\",\n",
    "        \"Sec-Fetch-Mode\": \"navigate\",\n",
    "        \"Sec-Fetch-Site\": \"none\",\n",
    "        \"Sec-Fetch-User\": \"?1\",\n",
    "        \"Cache-Control\": \"max-age=0\",\n",
    "    }\n",
    "\n",
    "url = \"https://www.ebay.co.uk/fdbk/feedback_profile/musicmagpieshop?filter=feedback_page%3ARECEIVED_AS_SELLER&q=294793039103&sort=TIME\"\n",
    "\n",
    "page = requests.get(url, headers=HEADERS)\n",
    "soup = BeautifulSoup(page.text, \"lxml\")"
   ]
  },
  {
   "cell_type": "code",
   "execution_count": 3,
   "id": "23c3bfb5",
   "metadata": {},
   "outputs": [],
   "source": [
    "table = soup.find(\"table\", {\"id\": \"feedback-cards\"})"
   ]
  },
  {
   "cell_type": "code",
   "execution_count": 4,
   "id": "614b4de8",
   "metadata": {},
   "outputs": [],
   "source": [
    "table_body = table.find(\"tbody\")"
   ]
  },
  {
   "cell_type": "code",
   "execution_count": 5,
   "id": "724d2210",
   "metadata": {},
   "outputs": [],
   "source": [
    "df = pd.DataFrame(columns=[\"Feedback\", \"Rating\"])"
   ]
  },
  {
   "cell_type": "code",
   "execution_count": 6,
   "id": "c50e4db5",
   "metadata": {},
   "outputs": [],
   "source": [
    "for row in table_body:\n",
    "    text = row.find(\"div\", class_ = \"card__comment\")\n",
    "    comment = text.span.attrs[\"aria-label\"].strip()\n",
    "    rating = row.find(\"div\", class_ = \"card__rating\").svg.attrs[\"aria-label\"]\n",
    "    df.loc[len(df)] = [comment, rating] \n"
   ]
  },
  {
   "cell_type": "code",
   "execution_count": 7,
   "id": "504b66fb",
   "metadata": {},
   "outputs": [
    {
     "data": {
      "text/html": [
       "<div>\n",
       "<style scoped>\n",
       "    .dataframe tbody tr th:only-of-type {\n",
       "        vertical-align: middle;\n",
       "    }\n",
       "\n",
       "    .dataframe tbody tr th {\n",
       "        vertical-align: top;\n",
       "    }\n",
       "\n",
       "    .dataframe thead th {\n",
       "        text-align: right;\n",
       "    }\n",
       "</style>\n",
       "<table border=\"1\" class=\"dataframe\">\n",
       "  <thead>\n",
       "    <tr style=\"text-align: right;\">\n",
       "      <th></th>\n",
       "      <th>Feedback</th>\n",
       "      <th>Rating</th>\n",
       "    </tr>\n",
       "  </thead>\n",
       "  <tbody>\n",
       "    <tr>\n",
       "      <th>0</th>\n",
       "      <td>Item received as described and in a timely man...</td>\n",
       "      <td>Positive feedback rating</td>\n",
       "    </tr>\n",
       "    <tr>\n",
       "      <th>1</th>\n",
       "      <td>Turned up as described</td>\n",
       "      <td>Positive feedback rating</td>\n",
       "    </tr>\n",
       "    <tr>\n",
       "      <th>2</th>\n",
       "      <td>But skeptical buying “good” condition items ha...</td>\n",
       "      <td>Positive feedback rating</td>\n",
       "    </tr>\n",
       "    <tr>\n",
       "      <th>3</th>\n",
       "      <td>as described</td>\n",
       "      <td>Positive feedback rating</td>\n",
       "    </tr>\n",
       "    <tr>\n",
       "      <th>4</th>\n",
       "      <td>Item arrived quickly and was as described.</td>\n",
       "      <td>Positive feedback rating</td>\n",
       "    </tr>\n",
       "    <tr>\n",
       "      <th>5</th>\n",
       "      <td>Thanks</td>\n",
       "      <td>Positive feedback rating</td>\n",
       "    </tr>\n",
       "    <tr>\n",
       "      <th>6</th>\n",
       "      <td>Brilliant service and quality item as always A...</td>\n",
       "      <td>Positive feedback rating</td>\n",
       "    </tr>\n",
       "    <tr>\n",
       "      <th>7</th>\n",
       "      <td>True description, prompt delivery, good commun...</td>\n",
       "      <td>Positive feedback rating</td>\n",
       "    </tr>\n",
       "    <tr>\n",
       "      <th>8</th>\n",
       "      <td>Excellent seller</td>\n",
       "      <td>Positive feedback rating</td>\n",
       "    </tr>\n",
       "    <tr>\n",
       "      <th>9</th>\n",
       "      <td>As described thanks</td>\n",
       "      <td>Positive feedback rating</td>\n",
       "    </tr>\n",
       "    <tr>\n",
       "      <th>10</th>\n",
       "      <td>Ultra fast delivery and item just as described...</td>\n",
       "      <td>Positive feedback rating</td>\n",
       "    </tr>\n",
       "    <tr>\n",
       "      <th>11</th>\n",
       "      <td>Not cleaned properly</td>\n",
       "      <td>Neutral feedback rating</td>\n",
       "    </tr>\n",
       "    <tr>\n",
       "      <th>12</th>\n",
       "      <td>5th purchase from MusicMagpie - and 5th time e...</td>\n",
       "      <td>Positive feedback rating</td>\n",
       "    </tr>\n",
       "    <tr>\n",
       "      <th>13</th>\n",
       "      <td>Quick\\nDelivery good item</td>\n",
       "      <td>Positive feedback rating</td>\n",
       "    </tr>\n",
       "    <tr>\n",
       "      <th>14</th>\n",
       "      <td>Very pleased with this purchase and service we...</td>\n",
       "      <td>Positive feedback rating</td>\n",
       "    </tr>\n",
       "    <tr>\n",
       "      <th>15</th>\n",
       "      <td>Very good</td>\n",
       "      <td>Positive feedback rating</td>\n",
       "    </tr>\n",
       "    <tr>\n",
       "      <th>16</th>\n",
       "      <td>Fast delivery.</td>\n",
       "      <td>Positive feedback rating</td>\n",
       "    </tr>\n",
       "    <tr>\n",
       "      <th>17</th>\n",
       "      <td>Thank you - absolute bargain - mega-quick deli...</td>\n",
       "      <td>Positive feedback rating</td>\n",
       "    </tr>\n",
       "    <tr>\n",
       "      <th>18</th>\n",
       "      <td>And described thank you</td>\n",
       "      <td>Positive feedback rating</td>\n",
       "    </tr>\n",
       "    <tr>\n",
       "      <th>19</th>\n",
       "      <td>Great</td>\n",
       "      <td>Positive feedback rating</td>\n",
       "    </tr>\n",
       "    <tr>\n",
       "      <th>20</th>\n",
       "      <td>I love it. Thank you</td>\n",
       "      <td>Positive feedback rating</td>\n",
       "    </tr>\n",
       "    <tr>\n",
       "      <th>21</th>\n",
       "      <td>Fast delivery, thanks A*</td>\n",
       "      <td>Positive feedback rating</td>\n",
       "    </tr>\n",
       "    <tr>\n",
       "      <th>22</th>\n",
       "      <td>Thank you</td>\n",
       "      <td>Positive feedback rating</td>\n",
       "    </tr>\n",
       "    <tr>\n",
       "      <th>23</th>\n",
       "      <td>A+++++++++</td>\n",
       "      <td>Positive feedback rating</td>\n",
       "    </tr>\n",
       "    <tr>\n",
       "      <th>24</th>\n",
       "      <td>Great - thank you.</td>\n",
       "      <td>Positive feedback rating</td>\n",
       "    </tr>\n",
       "  </tbody>\n",
       "</table>\n",
       "</div>"
      ],
      "text/plain": [
       "                                             Feedback  \\\n",
       "0   Item received as described and in a timely man...   \n",
       "1                              Turned up as described   \n",
       "2   But skeptical buying “good” condition items ha...   \n",
       "3                                        as described   \n",
       "4          Item arrived quickly and was as described.   \n",
       "5                                              Thanks   \n",
       "6   Brilliant service and quality item as always A...   \n",
       "7   True description, prompt delivery, good commun...   \n",
       "8                                    Excellent seller   \n",
       "9                                 As described thanks   \n",
       "10  Ultra fast delivery and item just as described...   \n",
       "11                               Not cleaned properly   \n",
       "12  5th purchase from MusicMagpie - and 5th time e...   \n",
       "13                          Quick\\nDelivery good item   \n",
       "14  Very pleased with this purchase and service we...   \n",
       "15                                          Very good   \n",
       "16                                     Fast delivery.   \n",
       "17  Thank you - absolute bargain - mega-quick deli...   \n",
       "18                            And described thank you   \n",
       "19                                              Great   \n",
       "20                               I love it. Thank you   \n",
       "21                           Fast delivery, thanks A*   \n",
       "22                                          Thank you   \n",
       "23                                         A+++++++++   \n",
       "24                                 Great - thank you.   \n",
       "\n",
       "                      Rating  \n",
       "0   Positive feedback rating  \n",
       "1   Positive feedback rating  \n",
       "2   Positive feedback rating  \n",
       "3   Positive feedback rating  \n",
       "4   Positive feedback rating  \n",
       "5   Positive feedback rating  \n",
       "6   Positive feedback rating  \n",
       "7   Positive feedback rating  \n",
       "8   Positive feedback rating  \n",
       "9   Positive feedback rating  \n",
       "10  Positive feedback rating  \n",
       "11   Neutral feedback rating  \n",
       "12  Positive feedback rating  \n",
       "13  Positive feedback rating  \n",
       "14  Positive feedback rating  \n",
       "15  Positive feedback rating  \n",
       "16  Positive feedback rating  \n",
       "17  Positive feedback rating  \n",
       "18  Positive feedback rating  \n",
       "19  Positive feedback rating  \n",
       "20  Positive feedback rating  \n",
       "21  Positive feedback rating  \n",
       "22  Positive feedback rating  \n",
       "23  Positive feedback rating  \n",
       "24  Positive feedback rating  "
      ]
     },
     "execution_count": 7,
     "metadata": {},
     "output_type": "execute_result"
    }
   ],
   "source": [
    "df"
   ]
  },
  {
   "cell_type": "markdown",
   "id": "3b16f7c9",
   "metadata": {},
   "source": [
    "# Utilising NLTK for sentiment analysis"
   ]
  },
  {
   "cell_type": "code",
   "execution_count": 8,
   "id": "6b8a5dbb",
   "metadata": {},
   "outputs": [
    {
     "name": "stderr",
     "output_type": "stream",
     "text": [
      "[nltk_data] Downloading package vader_lexicon to\n",
      "[nltk_data]     C:\\Users\\mibai\\AppData\\Roaming\\nltk_data...\n",
      "[nltk_data]   Package vader_lexicon is already up-to-date!\n"
     ]
    }
   ],
   "source": [
    "import nltk\n",
    "nltk.download('vader_lexicon')\n",
    "from nltk.sentiment import SentimentIntensityAnalyzer"
   ]
  },
  {
   "cell_type": "code",
   "execution_count": 9,
   "id": "426aea09",
   "metadata": {},
   "outputs": [],
   "source": [
    "sia = SentimentIntensityAnalyzer()"
   ]
  },
  {
   "cell_type": "code",
   "execution_count": 10,
   "id": "cc378b6c",
   "metadata": {},
   "outputs": [],
   "source": [
    "def polarity_score(x):\n",
    "    all_scores = sia.polarity_scores(x)\n",
    "    return all_scores[\"compound\"]\n",
    "\n",
    "df[\"polarity_score\"] = df[\"Feedback\"].apply(polarity_score)\n",
    "\n",
    "# Lambda function\n",
    "# df[\"polarity_score\"] = df[\"Feedback\"].apply(lambda x: sia.polarity_scores(x)[\"compound\"])"
   ]
  },
  {
   "cell_type": "code",
   "execution_count": 12,
   "id": "697fa619",
   "metadata": {},
   "outputs": [],
   "source": [
    "# Positive sentiment: Compound score > 0.05\n",
    "# Neutral sentiment: -0.05 <= Compound score <= 0.05\n",
    "# Negative sentiment: Compound score < -0.05\n",
    "\n",
    "df[\"nltk_rating\"] = df[\"polarity_score\"].apply(lambda x: \"Positive\" if x > 0.05 else (\"Neutral\" if -0.05 <= x <= 0.05 else \"Negative\"))"
   ]
  },
  {
   "cell_type": "code",
   "execution_count": 18,
   "id": "1762e5a5",
   "metadata": {},
   "outputs": [],
   "source": [
    "df.rename(columns={\"Rating\": \"rating\", \"Feedback\": \"feedback\"}, inplace=True)"
   ]
  },
  {
   "cell_type": "code",
   "execution_count": 28,
   "id": "f89f6bf4",
   "metadata": {},
   "outputs": [],
   "source": [
    "df[\"rating\"]  =df[\"rating\"].apply(lambda x: x.split()[0])"
   ]
  },
  {
   "cell_type": "code",
   "execution_count": 29,
   "id": "42c08766",
   "metadata": {
    "scrolled": true
   },
   "outputs": [
    {
     "data": {
      "text/html": [
       "<div>\n",
       "<style scoped>\n",
       "    .dataframe tbody tr th:only-of-type {\n",
       "        vertical-align: middle;\n",
       "    }\n",
       "\n",
       "    .dataframe tbody tr th {\n",
       "        vertical-align: top;\n",
       "    }\n",
       "\n",
       "    .dataframe thead th {\n",
       "        text-align: right;\n",
       "    }\n",
       "</style>\n",
       "<table border=\"1\" class=\"dataframe\">\n",
       "  <thead>\n",
       "    <tr style=\"text-align: right;\">\n",
       "      <th></th>\n",
       "      <th>feedback</th>\n",
       "      <th>rating</th>\n",
       "      <th>polarity_score</th>\n",
       "      <th>nltk_rating</th>\n",
       "    </tr>\n",
       "  </thead>\n",
       "  <tbody>\n",
       "    <tr>\n",
       "      <th>0</th>\n",
       "      <td>Item received as described and in a timely man...</td>\n",
       "      <td>Positive</td>\n",
       "      <td>0.0000</td>\n",
       "      <td>Neutral</td>\n",
       "    </tr>\n",
       "    <tr>\n",
       "      <th>1</th>\n",
       "      <td>Turned up as described</td>\n",
       "      <td>Positive</td>\n",
       "      <td>0.0000</td>\n",
       "      <td>Neutral</td>\n",
       "    </tr>\n",
       "    <tr>\n",
       "      <th>2</th>\n",
       "      <td>But skeptical buying “good” condition items ha...</td>\n",
       "      <td>Positive</td>\n",
       "      <td>0.9655</td>\n",
       "      <td>Positive</td>\n",
       "    </tr>\n",
       "    <tr>\n",
       "      <th>3</th>\n",
       "      <td>as described</td>\n",
       "      <td>Positive</td>\n",
       "      <td>0.0000</td>\n",
       "      <td>Neutral</td>\n",
       "    </tr>\n",
       "    <tr>\n",
       "      <th>4</th>\n",
       "      <td>Item arrived quickly and was as described.</td>\n",
       "      <td>Positive</td>\n",
       "      <td>0.0000</td>\n",
       "      <td>Neutral</td>\n",
       "    </tr>\n",
       "    <tr>\n",
       "      <th>5</th>\n",
       "      <td>Thanks</td>\n",
       "      <td>Positive</td>\n",
       "      <td>0.4404</td>\n",
       "      <td>Positive</td>\n",
       "    </tr>\n",
       "    <tr>\n",
       "      <th>6</th>\n",
       "      <td>Brilliant service and quality item as always A...</td>\n",
       "      <td>Positive</td>\n",
       "      <td>0.5859</td>\n",
       "      <td>Positive</td>\n",
       "    </tr>\n",
       "    <tr>\n",
       "      <th>7</th>\n",
       "      <td>True description, prompt delivery, good commun...</td>\n",
       "      <td>Positive</td>\n",
       "      <td>0.6908</td>\n",
       "      <td>Positive</td>\n",
       "    </tr>\n",
       "    <tr>\n",
       "      <th>8</th>\n",
       "      <td>Excellent seller</td>\n",
       "      <td>Positive</td>\n",
       "      <td>0.5719</td>\n",
       "      <td>Positive</td>\n",
       "    </tr>\n",
       "    <tr>\n",
       "      <th>9</th>\n",
       "      <td>As described thanks</td>\n",
       "      <td>Positive</td>\n",
       "      <td>0.4404</td>\n",
       "      <td>Positive</td>\n",
       "    </tr>\n",
       "    <tr>\n",
       "      <th>10</th>\n",
       "      <td>Ultra fast delivery and item just as described...</td>\n",
       "      <td>Positive</td>\n",
       "      <td>0.4199</td>\n",
       "      <td>Positive</td>\n",
       "    </tr>\n",
       "    <tr>\n",
       "      <th>11</th>\n",
       "      <td>Not cleaned properly</td>\n",
       "      <td>Neutral</td>\n",
       "      <td>0.0000</td>\n",
       "      <td>Neutral</td>\n",
       "    </tr>\n",
       "    <tr>\n",
       "      <th>12</th>\n",
       "      <td>5th purchase from MusicMagpie - and 5th time e...</td>\n",
       "      <td>Positive</td>\n",
       "      <td>0.3612</td>\n",
       "      <td>Positive</td>\n",
       "    </tr>\n",
       "    <tr>\n",
       "      <th>13</th>\n",
       "      <td>Quick\\nDelivery good item</td>\n",
       "      <td>Positive</td>\n",
       "      <td>0.4404</td>\n",
       "      <td>Positive</td>\n",
       "    </tr>\n",
       "    <tr>\n",
       "      <th>14</th>\n",
       "      <td>Very pleased with this purchase and service we...</td>\n",
       "      <td>Positive</td>\n",
       "      <td>0.8516</td>\n",
       "      <td>Positive</td>\n",
       "    </tr>\n",
       "    <tr>\n",
       "      <th>15</th>\n",
       "      <td>Very good</td>\n",
       "      <td>Positive</td>\n",
       "      <td>0.4927</td>\n",
       "      <td>Positive</td>\n",
       "    </tr>\n",
       "    <tr>\n",
       "      <th>16</th>\n",
       "      <td>Fast delivery.</td>\n",
       "      <td>Positive</td>\n",
       "      <td>0.0000</td>\n",
       "      <td>Neutral</td>\n",
       "    </tr>\n",
       "    <tr>\n",
       "      <th>17</th>\n",
       "      <td>Thank you - absolute bargain - mega-quick deli...</td>\n",
       "      <td>Positive</td>\n",
       "      <td>0.5106</td>\n",
       "      <td>Positive</td>\n",
       "    </tr>\n",
       "    <tr>\n",
       "      <th>18</th>\n",
       "      <td>And described thank you</td>\n",
       "      <td>Positive</td>\n",
       "      <td>0.3612</td>\n",
       "      <td>Positive</td>\n",
       "    </tr>\n",
       "    <tr>\n",
       "      <th>19</th>\n",
       "      <td>Great</td>\n",
       "      <td>Positive</td>\n",
       "      <td>0.6249</td>\n",
       "      <td>Positive</td>\n",
       "    </tr>\n",
       "    <tr>\n",
       "      <th>20</th>\n",
       "      <td>I love it. Thank you</td>\n",
       "      <td>Positive</td>\n",
       "      <td>0.7717</td>\n",
       "      <td>Positive</td>\n",
       "    </tr>\n",
       "    <tr>\n",
       "      <th>21</th>\n",
       "      <td>Fast delivery, thanks A*</td>\n",
       "      <td>Positive</td>\n",
       "      <td>0.4404</td>\n",
       "      <td>Positive</td>\n",
       "    </tr>\n",
       "    <tr>\n",
       "      <th>22</th>\n",
       "      <td>Thank you</td>\n",
       "      <td>Positive</td>\n",
       "      <td>0.3612</td>\n",
       "      <td>Positive</td>\n",
       "    </tr>\n",
       "    <tr>\n",
       "      <th>23</th>\n",
       "      <td>A+++++++++</td>\n",
       "      <td>Positive</td>\n",
       "      <td>0.0000</td>\n",
       "      <td>Neutral</td>\n",
       "    </tr>\n",
       "    <tr>\n",
       "      <th>24</th>\n",
       "      <td>Great - thank you.</td>\n",
       "      <td>Positive</td>\n",
       "      <td>0.7650</td>\n",
       "      <td>Positive</td>\n",
       "    </tr>\n",
       "  </tbody>\n",
       "</table>\n",
       "</div>"
      ],
      "text/plain": [
       "                                             feedback    rating  \\\n",
       "0   Item received as described and in a timely man...  Positive   \n",
       "1                              Turned up as described  Positive   \n",
       "2   But skeptical buying “good” condition items ha...  Positive   \n",
       "3                                        as described  Positive   \n",
       "4          Item arrived quickly and was as described.  Positive   \n",
       "5                                              Thanks  Positive   \n",
       "6   Brilliant service and quality item as always A...  Positive   \n",
       "7   True description, prompt delivery, good commun...  Positive   \n",
       "8                                    Excellent seller  Positive   \n",
       "9                                 As described thanks  Positive   \n",
       "10  Ultra fast delivery and item just as described...  Positive   \n",
       "11                               Not cleaned properly   Neutral   \n",
       "12  5th purchase from MusicMagpie - and 5th time e...  Positive   \n",
       "13                          Quick\\nDelivery good item  Positive   \n",
       "14  Very pleased with this purchase and service we...  Positive   \n",
       "15                                          Very good  Positive   \n",
       "16                                     Fast delivery.  Positive   \n",
       "17  Thank you - absolute bargain - mega-quick deli...  Positive   \n",
       "18                            And described thank you  Positive   \n",
       "19                                              Great  Positive   \n",
       "20                               I love it. Thank you  Positive   \n",
       "21                           Fast delivery, thanks A*  Positive   \n",
       "22                                          Thank you  Positive   \n",
       "23                                         A+++++++++  Positive   \n",
       "24                                 Great - thank you.  Positive   \n",
       "\n",
       "    polarity_score nltk_rating  \n",
       "0           0.0000     Neutral  \n",
       "1           0.0000     Neutral  \n",
       "2           0.9655    Positive  \n",
       "3           0.0000     Neutral  \n",
       "4           0.0000     Neutral  \n",
       "5           0.4404    Positive  \n",
       "6           0.5859    Positive  \n",
       "7           0.6908    Positive  \n",
       "8           0.5719    Positive  \n",
       "9           0.4404    Positive  \n",
       "10          0.4199    Positive  \n",
       "11          0.0000     Neutral  \n",
       "12          0.3612    Positive  \n",
       "13          0.4404    Positive  \n",
       "14          0.8516    Positive  \n",
       "15          0.4927    Positive  \n",
       "16          0.0000     Neutral  \n",
       "17          0.5106    Positive  \n",
       "18          0.3612    Positive  \n",
       "19          0.6249    Positive  \n",
       "20          0.7717    Positive  \n",
       "21          0.4404    Positive  \n",
       "22          0.3612    Positive  \n",
       "23          0.0000     Neutral  \n",
       "24          0.7650    Positive  "
      ]
     },
     "execution_count": 29,
     "metadata": {},
     "output_type": "execute_result"
    }
   ],
   "source": [
    "df"
   ]
  },
  {
   "cell_type": "code",
   "execution_count": 39,
   "id": "5dea0895",
   "metadata": {},
   "outputs": [],
   "source": [
    "rating_counts = df[\"rating\"].value_counts().sort_index()\n",
    "nltk_rating_counts = df[\"nltk_rating\"].value_counts().sort_index()"
   ]
  },
  {
   "cell_type": "code",
   "execution_count": 46,
   "id": "835f6faa",
   "metadata": {},
   "outputs": [
    {
     "data": {
      "text/plain": [
       "rating\n",
       "Neutral      1\n",
       "Positive    24\n",
       "Name: count, dtype: int64"
      ]
     },
     "execution_count": 46,
     "metadata": {},
     "output_type": "execute_result"
    }
   ],
   "source": [
    "rating_counts"
   ]
  },
  {
   "cell_type": "code",
   "execution_count": 47,
   "id": "9c7a5f81",
   "metadata": {},
   "outputs": [
    {
     "data": {
      "text/plain": [
       "nltk_rating\n",
       "Neutral      7\n",
       "Positive    18\n",
       "Name: count, dtype: int64"
      ]
     },
     "execution_count": 47,
     "metadata": {},
     "output_type": "execute_result"
    }
   ],
   "source": [
    "nltk_rating_counts"
   ]
  },
  {
   "cell_type": "code",
   "execution_count": 60,
   "id": "b252585c",
   "metadata": {
    "scrolled": true
   },
   "outputs": [],
   "source": [
    "df[\"match\"] = np.where((df[\"rating\"] == df[\"nltk_rating\"]), \"Match\", \"No Match\")"
   ]
  },
  {
   "cell_type": "code",
   "execution_count": 70,
   "id": "3a9b9581",
   "metadata": {},
   "outputs": [
    {
     "data": {
      "text/plain": [
       "match\n",
       "Match       19\n",
       "No Match     6\n",
       "Name: count, dtype: int64"
      ]
     },
     "execution_count": 70,
     "metadata": {},
     "output_type": "execute_result"
    }
   ],
   "source": [
    "match_counts = df[\"match\"].value_counts().sort_index()\n",
    "match_counts"
   ]
  },
  {
   "cell_type": "markdown",
   "id": "71016c8c",
   "metadata": {},
   "source": [
    "# Plotting the results"
   ]
  },
  {
   "cell_type": "code",
   "execution_count": 30,
   "id": "ea5566f6",
   "metadata": {},
   "outputs": [],
   "source": [
    "import matplotlib.pyplot as plt"
   ]
  },
  {
   "cell_type": "code",
   "execution_count": 31,
   "id": "cd6e8835",
   "metadata": {},
   "outputs": [],
   "source": [
    "%matplotlib inline"
   ]
  },
  {
   "cell_type": "code",
   "execution_count": 51,
   "id": "da70bd5d",
   "metadata": {},
   "outputs": [
    {
     "data": {
      "image/png": "[encoded data removed]",
      "text/plain": [
       "<Figure size 640x480 with 1 Axes>"
      ]
     },
     "metadata": {},
     "output_type": "display_data"
    }
   ],
   "source": [
    "plt.bar(rating_counts.index, rating_counts.values)\n",
    "plt.yticks(range(0, max(rating_counts.values) + 1, 2))\n",
    "plt.xlabel('Rating')\n",
    "plt.ylabel('Count')\n",
    "plt.title('Feedback Counts by Rating')\n",
    "plt.show()"
   ]
  },
  {
   "cell_type": "code",
   "execution_count": 50,
   "id": "2ea70c29",
   "metadata": {},
   "outputs": [
    {
     "data": {
      "image/png": "[encoded data removed]",
      "text/plain": [
       "<Figure size 640x480 with 1 Axes>"
      ]
     },
     "metadata": {},
     "output_type": "display_data"
    }
   ],
   "source": [
    "plt.bar(nltk_rating_counts.index, nltk_rating_counts.values)\n",
    "plt.yticks(range(0, max(nltk_rating_counts.values) + 1, 2))\n",
    "plt.xlabel('Rating')\n",
    "plt.ylabel('Count')\n",
    "plt.title('Feedback Counts by NLTK Rating')\n",
    "plt.show()"
   ]
  },
  {
   "cell_type": "code",
   "execution_count": 75,
   "id": "97128968",
   "metadata": {},
   "outputs": [
    {
     "data": {
      "image/png": "[encoded data removed]",
      "text/plain": [
       "<Figure size 640x480 with 1 Axes>"
      ]
     },
     "metadata": {},
     "output_type": "display_data"
    }
   ],
   "source": [
    "plt.pie(match_counts.values, labels = match_counts.index, autopct = '%1.1f%%')\n",
    "plt.show()"
   ]
  }
 ],
 "metadata": {
  "kernelspec": {
   "display_name": "Python 3 (ipykernel)",
   "language": "python",
   "name": "python3"
  },
  "language_info": {
   "codemirror_mode": {
    "name": "ipython",
    "version": 3
   },
   "file_extension": ".py",
   "mimetype": "text/x-python",
   "name": "python",
   "nbconvert_exporter": "python",
   "pygments_lexer": "ipython3",
   "version": "3.11.5"
  }
 },
 "nbformat": 4,
 "nbformat_minor": 5
}
